{
  "nbformat": 4,
  "nbformat_minor": 0,
  "metadata": {
    "colab": {
      "provenance": [],
      "collapsed_sections": [
        "oxQxCBWyoGPE",
        "af8O4l90gk7B"
      ],
      "include_colab_link": true
    },
    "kernelspec": {
      "name": "python3",
      "display_name": "Python 3"
    }
  },
  "cells": [
    {
      "cell_type": "markdown",
      "metadata": {
        "id": "view-in-github",
        "colab_type": "text"
      },
      "source": [
        "<a href=\"https://colab.research.google.com/github/Tarekkk1/image-search-engine/blob/main/convolutional_neural_network.ipynb\" target=\"_parent\"><img src=\"https://colab.research.google.com/assets/colab-badge.svg\" alt=\"Open In Colab\"/></a>"
      ]
    },
    {
      "cell_type": "markdown",
      "metadata": {
        "id": "3DR-eO17geWu"
      },
      "source": [
        "# Convolutional Neural Network"
      ]
    },
    {
      "cell_type": "markdown",
      "metadata": {
        "id": "EMefrVPCg-60"
      },
      "source": [
        "### Importing the libraries"
      ]
    },
    {
      "cell_type": "code",
      "metadata": {
        "id": "sCV30xyVhFbE"
      },
      "source": [
        "import tensorflow as tf\n",
        "from keras.preprocessing.image import ImageDataGenerator"
      ],
      "execution_count": 56,
      "outputs": []
    },
    {
      "cell_type": "markdown",
      "metadata": {
        "id": "oxQxCBWyoGPE"
      },
      "source": [
        "## Part 1 - Data Preprocessing"
      ]
    },
    {
      "cell_type": "markdown",
      "metadata": {
        "id": "MvE-heJNo3GG"
      },
      "source": [
        "### Preprocessing the Training set"
      ]
    },
    {
      "cell_type": "code",
      "metadata": {
        "id": "0koUcJMJpEBD",
        "colab": {
          "base_uri": "https://localhost:8080/"
        },
        "outputId": "0354c080-3ff7-47ff-b92b-9c65f5bc6145"
      },
      "source": [
        "train_datagen = ImageDataGenerator(rescale = 1./255,\n",
        "                                   shear_range = 0.2,\n",
        "                                   zoom_range = 0.2,\n",
        "                                   horizontal_flip = True)\n",
        "training_set = train_datagen.flow_from_directory('/content/drive/MyDrive/Dataset/MY_data/train',\n",
        "                                                 target_size = (64, 64),\n",
        "                                                 batch_size = 32,\n",
        "                                                 class_mode = 'categorical')"
      ],
      "execution_count": 57,
      "outputs": [
        {
          "output_type": "stream",
          "name": "stdout",
          "text": [
            "Found 2301 images belonging to 10 classes.\n"
          ]
        }
      ]
    },
    {
      "cell_type": "markdown",
      "metadata": {
        "id": "mrCMmGw9pHys"
      },
      "source": [
        "### Preprocessing the Test set"
      ]
    },
    {
      "cell_type": "code",
      "metadata": {
        "id": "SH4WzfOhpKc3",
        "colab": {
          "base_uri": "https://localhost:8080/"
        },
        "outputId": "a9f64fb3-9229-4cbf-93bf-9da2658c4a88"
      },
      "source": [
        "test_datagen = ImageDataGenerator(rescale = 1./255)\n",
        "test_set = test_datagen.flow_from_directory('/content/drive/MyDrive/Dataset/MY_data/test',\n",
        "                                            target_size = (64, 64),\n",
        "                                            batch_size = 32,\n",
        "                                            class_mode = 'categorical')"
      ],
      "execution_count": 58,
      "outputs": [
        {
          "output_type": "stream",
          "name": "stdout",
          "text": [
            "Found 1025 images belonging to 10 classes.\n"
          ]
        }
      ]
    },
    {
      "cell_type": "code",
      "source": [
        "from google.colab import drive\n",
        "drive.mount('/content/drive')"
      ],
      "metadata": {
        "id": "ICkk9nFuS5ee",
        "colab": {
          "base_uri": "https://localhost:8080/"
        },
        "outputId": "0545e767-5f8d-45f2-8d10-3420b7e4d027"
      },
      "execution_count": 59,
      "outputs": [
        {
          "output_type": "stream",
          "name": "stdout",
          "text": [
            "Drive already mounted at /content/drive; to attempt to forcibly remount, call drive.mount(\"/content/drive\", force_remount=True).\n"
          ]
        }
      ]
    },
    {
      "cell_type": "markdown",
      "metadata": {
        "id": "af8O4l90gk7B"
      },
      "source": [
        "## Part 2 - Building the CNN"
      ]
    },
    {
      "cell_type": "markdown",
      "metadata": {
        "id": "ces1gXY2lmoX"
      },
      "source": [
        "### Initialising the CNN"
      ]
    },
    {
      "cell_type": "code",
      "metadata": {
        "id": "SAUt4UMPlhLS"
      },
      "source": [
        "cnn = Sequential()"
      ],
      "execution_count": 60,
      "outputs": []
    },
    {
      "cell_type": "markdown",
      "metadata": {
        "id": "u5YJj_XMl5LF"
      },
      "source": [
        "### Step 1 - Convolution"
      ]
    },
    {
      "cell_type": "code",
      "metadata": {
        "id": "XPzPrMckl-hV"
      },
      "source": [
        "cnn.add(Conv2D(32, (3, 3), activation='relu', input_shape=(64, 64, 3)))"
      ],
      "execution_count": 61,
      "outputs": []
    },
    {
      "cell_type": "markdown",
      "metadata": {
        "id": "tf87FpvxmNOJ"
      },
      "source": [
        "### Step 2 - Pooling"
      ]
    },
    {
      "cell_type": "code",
      "metadata": {
        "id": "ncpqPl69mOac"
      },
      "source": [
        "cnn.add(MaxPooling2D(pool_size=(2, 2)))"
      ],
      "execution_count": 62,
      "outputs": []
    },
    {
      "cell_type": "markdown",
      "metadata": {
        "id": "tmiEuvTunKfk"
      },
      "source": [
        "### Step 3 - Flattening"
      ]
    },
    {
      "cell_type": "code",
      "metadata": {
        "id": "6AZeOGCvnNZn"
      },
      "source": [
        "cnn.add(Flatten())"
      ],
      "execution_count": 63,
      "outputs": []
    },
    {
      "cell_type": "markdown",
      "metadata": {
        "id": "dAoSECOm203v"
      },
      "source": [
        "### Step 4 - Full Connection"
      ]
    },
    {
      "cell_type": "code",
      "metadata": {
        "id": "8GtmUlLd26Nq"
      },
      "source": [
        "cnn.add(Dense(128, activation='relu'))\n"
      ],
      "execution_count": 64,
      "outputs": []
    },
    {
      "cell_type": "markdown",
      "metadata": {
        "id": "yTldFvbX28Na"
      },
      "source": [
        "### Step 5 - Output Layer"
      ]
    },
    {
      "cell_type": "code",
      "metadata": {
        "id": "1p_Zj1Mc3Ko_"
      },
      "source": [
        "cnn.add(Dense(10, activation='softmax'))"
      ],
      "execution_count": 65,
      "outputs": []
    },
    {
      "cell_type": "markdown",
      "metadata": {
        "id": "D6XkI90snSDl"
      },
      "source": [
        "## Part 3 - Training the CNN"
      ]
    },
    {
      "cell_type": "markdown",
      "metadata": {
        "id": "vfrFQACEnc6i"
      },
      "source": [
        "### Compiling the CNN"
      ]
    },
    {
      "cell_type": "code",
      "metadata": {
        "id": "NALksrNQpUlJ"
      },
      "source": [
        "cnn.compile(optimizer = 'adam', loss = 'categorical_crossentropy', metrics = ['accuracy'])"
      ],
      "execution_count": 66,
      "outputs": []
    },
    {
      "cell_type": "code",
      "source": [
        "\n",
        "cnn.fit(x = training_set, validation_data = test_set, epochs = 25)\n"
      ],
      "metadata": {
        "colab": {
          "base_uri": "https://localhost:8080/"
        },
        "id": "NT7eF6GYxHoJ",
        "outputId": "1adf2d48-570e-4da1-d0e4-7edb387d45d2"
      },
      "execution_count": 67,
      "outputs": [
        {
          "output_type": "stream",
          "name": "stdout",
          "text": [
            "Epoch 1/25\n",
            "72/72 [==============================] - 405s 6s/step - loss: 2.2624 - accuracy: 0.2508 - val_loss: 1.9774 - val_accuracy: 0.3132\n",
            "Epoch 2/25\n",
            "72/72 [==============================] - 24s 324ms/step - loss: 1.5913 - accuracy: 0.4120 - val_loss: 1.8267 - val_accuracy: 0.3639\n",
            "Epoch 3/25\n",
            "72/72 [==============================] - 23s 316ms/step - loss: 1.4011 - accuracy: 0.4946 - val_loss: 1.9588 - val_accuracy: 0.3171\n",
            "Epoch 4/25\n",
            "72/72 [==============================] - 23s 325ms/step - loss: 1.2944 - accuracy: 0.5198 - val_loss: 1.8130 - val_accuracy: 0.3844\n",
            "Epoch 5/25\n",
            "72/72 [==============================] - 24s 329ms/step - loss: 1.1946 - accuracy: 0.5680 - val_loss: 1.8900 - val_accuracy: 0.3785\n",
            "Epoch 6/25\n",
            "72/72 [==============================] - 25s 349ms/step - loss: 1.1352 - accuracy: 0.6010 - val_loss: 1.9122 - val_accuracy: 0.4039\n",
            "Epoch 7/25\n",
            "72/72 [==============================] - 23s 322ms/step - loss: 1.0537 - accuracy: 0.6254 - val_loss: 1.8246 - val_accuracy: 0.4400\n",
            "Epoch 8/25\n",
            "72/72 [==============================] - 23s 326ms/step - loss: 0.9924 - accuracy: 0.6467 - val_loss: 1.8814 - val_accuracy: 0.4322\n",
            "Epoch 9/25\n",
            "72/72 [==============================] - 23s 322ms/step - loss: 0.9280 - accuracy: 0.6723 - val_loss: 2.0965 - val_accuracy: 0.4254\n",
            "Epoch 10/25\n",
            "72/72 [==============================] - 24s 338ms/step - loss: 0.9031 - accuracy: 0.6858 - val_loss: 1.8610 - val_accuracy: 0.4293\n",
            "Epoch 11/25\n",
            "72/72 [==============================] - 24s 330ms/step - loss: 0.8163 - accuracy: 0.7114 - val_loss: 1.8819 - val_accuracy: 0.4946\n",
            "Epoch 12/25\n",
            "72/72 [==============================] - 24s 326ms/step - loss: 0.7820 - accuracy: 0.7366 - val_loss: 1.9937 - val_accuracy: 0.4566\n",
            "Epoch 13/25\n",
            "72/72 [==============================] - 24s 335ms/step - loss: 0.7855 - accuracy: 0.7262 - val_loss: 2.4183 - val_accuracy: 0.4478\n",
            "Epoch 14/25\n",
            "72/72 [==============================] - 22s 312ms/step - loss: 0.7323 - accuracy: 0.7501 - val_loss: 2.0359 - val_accuracy: 0.4810\n",
            "Epoch 15/25\n",
            "72/72 [==============================] - 24s 326ms/step - loss: 0.6456 - accuracy: 0.7844 - val_loss: 2.1032 - val_accuracy: 0.5044\n",
            "Epoch 16/25\n",
            "72/72 [==============================] - 22s 305ms/step - loss: 0.6674 - accuracy: 0.7731 - val_loss: 2.2158 - val_accuracy: 0.4527\n",
            "Epoch 17/25\n",
            "72/72 [==============================] - 24s 326ms/step - loss: 0.6069 - accuracy: 0.7949 - val_loss: 2.0011 - val_accuracy: 0.5180\n",
            "Epoch 18/25\n",
            "72/72 [==============================] - 22s 313ms/step - loss: 0.5727 - accuracy: 0.8066 - val_loss: 2.0004 - val_accuracy: 0.5210\n",
            "Epoch 19/25\n",
            "72/72 [==============================] - 22s 304ms/step - loss: 0.5368 - accuracy: 0.8218 - val_loss: 2.3153 - val_accuracy: 0.4654\n",
            "Epoch 20/25\n",
            "72/72 [==============================] - 22s 302ms/step - loss: 0.5334 - accuracy: 0.8188 - val_loss: 2.0838 - val_accuracy: 0.4995\n",
            "Epoch 21/25\n",
            "72/72 [==============================] - 25s 352ms/step - loss: 0.5078 - accuracy: 0.8318 - val_loss: 2.3215 - val_accuracy: 0.4927\n",
            "Epoch 22/25\n",
            "72/72 [==============================] - 25s 341ms/step - loss: 0.4576 - accuracy: 0.8527 - val_loss: 2.3458 - val_accuracy: 0.4771\n",
            "Epoch 23/25\n",
            "72/72 [==============================] - 23s 323ms/step - loss: 0.4247 - accuracy: 0.8592 - val_loss: 2.4685 - val_accuracy: 0.4956\n",
            "Epoch 24/25\n",
            "72/72 [==============================] - 23s 326ms/step - loss: 0.4195 - accuracy: 0.8640 - val_loss: 2.6159 - val_accuracy: 0.4859\n",
            "Epoch 25/25\n",
            "72/72 [==============================] - 24s 329ms/step - loss: 0.4064 - accuracy: 0.8696 - val_loss: 2.3209 - val_accuracy: 0.5327\n"
          ]
        },
        {
          "output_type": "execute_result",
          "data": {
            "text/plain": [
              "<keras.callbacks.History at 0x7f89d9361570>"
            ]
          },
          "metadata": {},
          "execution_count": 67
        }
      ]
    },
    {
      "cell_type": "code",
      "source": [
        "import numpy as np\n",
        "from PIL import Image\n",
        "from tensorflow.keras.preprocessing import image\n",
        "\n",
        "test_image = Image.open('/content/drive/MyDrive/Dataset/MY_data/train/Apple/img_2311.jpeg')\n",
        "test_image = test_image.resize((64, 64))  # Resize the image to the desired target size\n",
        "test_image = image.img_to_array(test_image)\n",
        "test_image = np.expand_dims(test_image, axis=0)\n",
        "result = cnn.predict(test_image)\n",
        "training_set.class_indices\n",
        "\n",
        "class_indices = training_set.class_indices\n",
        "prediction = ''\n",
        "for key, value in class_indices.items():\n",
        "    if result[0][value] == 1:\n",
        "        prediction = key\n",
        "        break\n",
        "\n",
        "print(prediction)\n"
      ],
      "metadata": {
        "id": "Ok-om4Kcb3qt",
        "colab": {
          "base_uri": "https://localhost:8080/"
        },
        "outputId": "553a334d-d738-4e00-90bd-1818f7e64e7b"
      },
      "execution_count": 77,
      "outputs": [
        {
          "output_type": "stream",
          "name": "stdout",
          "text": [
            "1/1 [==============================] - 0s 36ms/step\n",
            "Apple\n"
          ]
        }
      ]
    }
  ]
}